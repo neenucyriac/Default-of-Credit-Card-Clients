{
 "cells": [
  {
   "cell_type": "code",
   "execution_count": 12,
   "id": "6e77ac1e-9bc4-4be9-8aee-4f8f12f4a7e5",
   "metadata": {},
   "outputs": [],
   "source": [
    "# Step 1: Import necessary libraries\n",
    "import pandas as pd\n",
    "import numpy as np\n",
    "from sklearn.model_selection import train_test_split\n",
    "from sklearn.preprocessing import StandardScaler, MinMaxScaler, LabelEncoder, OneHotEncoder\n",
    "\n",
    "# Load your dataset\n",
    "dataset = pd.read_csv('C:\\\\Users\\\\neenu\\\\Jupyter\\\\Assignments\\\\Final_Project\\\\Default_of_Credit_Card_Clients\\\\default_of_credit_card_clients.csv')\n",
    "#print(df)"
   ]
  },
  {
   "cell_type": "code",
   "execution_count": 13,
   "id": "a5227fab-b7f3-4af4-96c1-174f1106a0b0",
   "metadata": {},
   "outputs": [
    {
     "name": "stdout",
     "output_type": "stream",
     "text": [
      "          ID  LIMIT_BAL  SEX  EDUCATION  MARRIAGE  AGE  PAY_0  PAY_2  PAY_3  \\\n",
      "0          1      20000    2          2         1   24      2      2     -1   \n",
      "1          2     120000    2          2         2   26     -1      2      0   \n",
      "2          3      90000    2          2         2   34      0      0      0   \n",
      "3          4      50000    2          2         1   37      0      0      0   \n",
      "4          5      50000    1          2         1   57     -1      0     -1   \n",
      "...      ...        ...  ...        ...       ...  ...    ...    ...    ...   \n",
      "29995  29996     220000    1          3         1   39      0      0      0   \n",
      "29996  29997     150000    1          3         2   43     -1     -1     -1   \n",
      "29997  29998      30000    1          2         2   37      4      3      2   \n",
      "29998  29999      80000    1          3         1   41      1     -1      0   \n",
      "29999  30000      50000    1          2         1   46      0      0      0   \n",
      "\n",
      "       PAY_4  ...  BILL_AMT4  BILL_AMT5  BILL_AMT6  PAY_AMT1  PAY_AMT2  \\\n",
      "0         -1  ...          0          0          0         0       689   \n",
      "1          0  ...       3272       3455       3261         0      1000   \n",
      "2          0  ...      14331      14948      15549      1518      1500   \n",
      "3          0  ...      28314      28959      29547      2000      2019   \n",
      "4          0  ...      20940      19146      19131      2000     36681   \n",
      "...      ...  ...        ...        ...        ...       ...       ...   \n",
      "29995      0  ...      88004      31237      15980      8500     20000   \n",
      "29996     -1  ...       8979       5190          0      1837      3526   \n",
      "29997     -1  ...      20878      20582      19357         0         0   \n",
      "29998      0  ...      52774      11855      48944     85900      3409   \n",
      "29999      0  ...      36535      32428      15313      2078      1800   \n",
      "\n",
      "       PAY_AMT3  PAY_AMT4  PAY_AMT5  PAY_AMT6  default payment next month  \n",
      "0             0         0         0         0                           1  \n",
      "1          1000      1000         0      2000                           1  \n",
      "2          1000      1000      1000      5000                           0  \n",
      "3          1200      1100      1069      1000                           0  \n",
      "4         10000      9000       689       679                           0  \n",
      "...         ...       ...       ...       ...                         ...  \n",
      "29995      5003      3047      5000      1000                           0  \n",
      "29996      8998       129         0         0                           0  \n",
      "29997     22000      4200      2000      3100                           1  \n",
      "29998      1178      1926     52964      1804                           1  \n",
      "29999      1430      1000      1000      1000                           1  \n",
      "\n",
      "[30000 rows x 25 columns]\n"
     ]
    }
   ],
   "source": [
    "df =pd.DataFrame(dataset)\n",
    "print(df)"
   ]
  },
  {
   "cell_type": "code",
   "execution_count": 9,
   "id": "e3c53b41-f27c-4619-b27c-9eb868159046",
   "metadata": {},
   "outputs": [
    {
     "name": "stdout",
     "output_type": "stream",
     "text": [
      "Missing values in each column:\n",
      " ID                            0\n",
      "LIMIT_BAL                     0\n",
      "SEX                           0\n",
      "EDUCATION                     0\n",
      "MARRIAGE                      0\n",
      "AGE                           0\n",
      "PAY_0                         0\n",
      "PAY_2                         0\n",
      "PAY_3                         0\n",
      "PAY_4                         0\n",
      "PAY_5                         0\n",
      "PAY_6                         0\n",
      "BILL_AMT1                     0\n",
      "BILL_AMT2                     0\n",
      "BILL_AMT3                     0\n",
      "BILL_AMT4                     0\n",
      "BILL_AMT5                     0\n",
      "BILL_AMT6                     0\n",
      "PAY_AMT1                      0\n",
      "PAY_AMT2                      0\n",
      "PAY_AMT3                      0\n",
      "PAY_AMT4                      0\n",
      "PAY_AMT5                      0\n",
      "PAY_AMT6                      0\n",
      "default payment next month    0\n",
      "dtype: int64\n"
     ]
    }
   ],
   "source": [
    "# Step 2: Check for missing values and handle them\n",
    "print(\"Missing values in each column:\\n\", df.isnull().sum())\n",
    "\n",
    "# Fill missing numeric values with the mean of the column\n",
    "df.fillna(df.mean(), inplace=True)\n",
    "\n",
    "# Drop rows with missing values (if preferred)\n",
    "df.dropna(inplace=True)"
   ]
  },
  {
   "cell_type": "code",
   "execution_count": 15,
   "id": "ab224cbd-95c8-4e8c-b20c-589fc73bb3a2",
   "metadata": {},
   "outputs": [
    {
     "name": "stdout",
     "output_type": "stream",
     "text": [
      "Index(['ID', 'LIMIT_BAL', 'SEX', 'EDUCATION', 'MARRIAGE', 'AGE', 'PAY_0',\n",
      "       'PAY_2', 'PAY_3', 'PAY_4', 'PAY_5', 'PAY_6', 'BILL_AMT1', 'BILL_AMT2',\n",
      "       'BILL_AMT3', 'BILL_AMT4', 'BILL_AMT5', 'BILL_AMT6', 'PAY_AMT1',\n",
      "       'PAY_AMT2', 'PAY_AMT3', 'PAY_AMT4', 'PAY_AMT5', 'PAY_AMT6',\n",
      "       'default payment next month'],\n",
      "      dtype='object')\n"
     ]
    }
   ],
   "source": [
    "print(df.columns)\n"
   ]
  },
  {
   "cell_type": "code",
   "execution_count": 46,
   "id": "269178f2-05d2-437d-b51a-cda87a08d829",
   "metadata": {},
   "outputs": [
    {
     "name": "stdout",
     "output_type": "stream",
     "text": [
      "Index(['ID', 'LIMIT_BAL', 'EDUCATION', 'AGE', 'PAY_0', 'PAY_2', 'PAY_3',\n",
      "       'PAY_4', 'PAY_5', 'PAY_6', 'BILL_AMT1', 'BILL_AMT2', 'BILL_AMT3',\n",
      "       'BILL_AMT4', 'BILL_AMT5', 'BILL_AMT6', 'PAY_AMT1', 'PAY_AMT2',\n",
      "       'PAY_AMT3', 'PAY_AMT4', 'PAY_AMT5', 'PAY_AMT6',\n",
      "       'default payment next month', 'SEX_1', 'MARRIAGE_1', 'MARRIAGE_2',\n",
      "       'MARRIAGE_3'],\n",
      "      dtype='object')\n",
      "          ID  LIMIT_BAL  EDUCATION       AGE     PAY_0     PAY_2     PAY_3  \\\n",
      "0          1  -1.136720          2 -1.246020  1.794564  1.782348 -0.696663   \n",
      "1          2  -0.365981          2 -1.029047 -0.874991  1.782348  0.138865   \n",
      "2          3  -0.597202          2 -0.161156  0.014861  0.111736  0.138865   \n",
      "3          4  -0.905498          2  0.164303  0.014861  0.111736  0.138865   \n",
      "4          5  -0.905498          2  2.334029 -0.874991  0.111736 -0.696663   \n",
      "...      ...        ...        ...       ...       ...       ...       ...   \n",
      "29995  29996   0.404759          3  0.381275  0.014861  0.111736  0.138865   \n",
      "29996  29997  -0.134759          3  0.815221 -0.874991 -0.723570 -0.696663   \n",
      "29997  29998  -1.059646          2  0.164303  3.574267  2.617654  1.809921   \n",
      "29998  29999  -0.674276          3  0.598248  0.904712 -0.723570  0.138865   \n",
      "29999  30000  -0.905498          2  1.140680  0.014861  0.111736  0.138865   \n",
      "\n",
      "          PAY_4     PAY_5     PAY_6  ...  PAY_AMT2  PAY_AMT3  PAY_AMT4  \\\n",
      "0     -0.666599 -1.530046 -1.486041  ... -0.227086 -0.296801 -0.308063   \n",
      "1      0.188746  0.234917  1.992316  ... -0.213588 -0.240005 -0.244230   \n",
      "2      0.188746  0.234917  0.253137  ... -0.191887 -0.240005 -0.244230   \n",
      "3      0.188746  0.234917  0.253137  ... -0.169361 -0.228645 -0.237846   \n",
      "4      0.188746  0.234917  0.253137  ...  1.335034  0.271165  0.266434   \n",
      "...         ...       ...       ...  ...       ...       ...       ...   \n",
      "29995  0.188746  0.234917  0.253137  ...  0.611048 -0.012648 -0.113564   \n",
      "29996 -0.666599  0.234917  0.253137  ... -0.103955  0.214255 -0.299828   \n",
      "29997 -0.666599  0.234917  0.253137  ... -0.256990  0.952725 -0.039964   \n",
      "29998  0.188746  0.234917 -0.616452  ... -0.109033 -0.229895 -0.185120   \n",
      "29999  0.188746  0.234917  0.253137  ... -0.178866 -0.215582 -0.244230   \n",
      "\n",
      "       PAY_AMT5  PAY_AMT6  default payment next month  SEX_1  MARRIAGE_1  \\\n",
      "0     -0.314136 -0.293382                           1   True        True   \n",
      "1     -0.314136 -0.180878                           1   True       False   \n",
      "2     -0.248683 -0.012122                           0   True       False   \n",
      "3     -0.244166 -0.237130                           0   True        True   \n",
      "4     -0.269039 -0.255187                           0  False        True   \n",
      "...         ...       ...                         ...    ...         ...   \n",
      "29995  0.013131 -0.237130                           0  False        True   \n",
      "29996 -0.314136 -0.293382                           0  False       False   \n",
      "29997 -0.183229 -0.119001                           1  False       False   \n",
      "29998  3.152536 -0.191904                           1  False        True   \n",
      "29999 -0.248683 -0.237130                           1  False        True   \n",
      "\n",
      "       MARRIAGE_2  MARRIAGE_3  \n",
      "0           False       False  \n",
      "1            True       False  \n",
      "2            True       False  \n",
      "3           False       False  \n",
      "4           False       False  \n",
      "...           ...         ...  \n",
      "29995       False       False  \n",
      "29996        True       False  \n",
      "29997        True       False  \n",
      "29998       False       False  \n",
      "29999       False       False  \n",
      "\n",
      "[30000 rows x 27 columns]\n"
     ]
    }
   ],
   "source": [
    "# Step 3: Encode categorical data\n",
    "# Display the columns in the DataFrame to check for any naming discrepancies\n",
    "print(df.columns)\n",
    "\n",
    "# Assuming the columns are named correctly, here is the corrected encoding code\n",
    "\n",
    "# Label Encoding for binary categorical columns (if 'default payment next month' exists)\n",
    "if 'default payment next month' in df.columns:\n",
    "    label_encoder = LabelEncoder()\n",
    "    df['default payment next month'] = label_encoder.fit_transform(df['default payment next month'])\n",
    "\n",
    "# One-Hot Encoding for multiclass categorical columns\n",
    "# Ensure columns match exactly, including 'SEX' and 'EDUCATION' names\n",
    "if 'SEX' in df.columns and 'EDUCATION' in df.columns and 'MARRIAGE' in df.columns :\n",
    "    df = pd.get_dummies(df, columns=['SEX', 'EDUCATION','MARRIAGE'], drop_first=True)\n",
    "\n",
    "print(df)"
   ]
  },
  {
   "cell_type": "code",
   "execution_count": 38,
   "id": "e7b4a0ce-81b4-4945-93a4-b4b8bfb3c412",
   "metadata": {},
   "outputs": [
    {
     "name": "stdout",
     "output_type": "stream",
     "text": [
      "          ID  LIMIT_BAL  EDUCATION       AGE     PAY_0     PAY_2     PAY_3  \\\n",
      "0          1  -1.136720          2 -1.246020  1.794564  1.782348 -0.696663   \n",
      "1          2  -0.365981          2 -1.029047 -0.874991  1.782348  0.138865   \n",
      "2          3  -0.597202          2 -0.161156  0.014861  0.111736  0.138865   \n",
      "3          4  -0.905498          2  0.164303  0.014861  0.111736  0.138865   \n",
      "4          5  -0.905498          2  2.334029 -0.874991  0.111736 -0.696663   \n",
      "...      ...        ...        ...       ...       ...       ...       ...   \n",
      "29995  29996   0.404759          3  0.381275  0.014861  0.111736  0.138865   \n",
      "29996  29997  -0.134759          3  0.815221 -0.874991 -0.723570 -0.696663   \n",
      "29997  29998  -1.059646          2  0.164303  3.574267  2.617654  1.809921   \n",
      "29998  29999  -0.674276          3  0.598248  0.904712 -0.723570  0.138865   \n",
      "29999  30000  -0.905498          2  1.140680  0.014861  0.111736  0.138865   \n",
      "\n",
      "          PAY_4     PAY_5     PAY_6  ...  PAY_AMT2  PAY_AMT3  PAY_AMT4  \\\n",
      "0     -0.666599 -1.530046 -1.486041  ... -0.227086 -0.296801 -0.308063   \n",
      "1      0.188746  0.234917  1.992316  ... -0.213588 -0.240005 -0.244230   \n",
      "2      0.188746  0.234917  0.253137  ... -0.191887 -0.240005 -0.244230   \n",
      "3      0.188746  0.234917  0.253137  ... -0.169361 -0.228645 -0.237846   \n",
      "4      0.188746  0.234917  0.253137  ...  1.335034  0.271165  0.266434   \n",
      "...         ...       ...       ...  ...       ...       ...       ...   \n",
      "29995  0.188746  0.234917  0.253137  ...  0.611048 -0.012648 -0.113564   \n",
      "29996 -0.666599  0.234917  0.253137  ... -0.103955  0.214255 -0.299828   \n",
      "29997 -0.666599  0.234917  0.253137  ... -0.256990  0.952725 -0.039964   \n",
      "29998  0.188746  0.234917 -0.616452  ... -0.109033 -0.229895 -0.185120   \n",
      "29999  0.188746  0.234917  0.253137  ... -0.178866 -0.215582 -0.244230   \n",
      "\n",
      "       PAY_AMT5  PAY_AMT6  default payment next month  SEX_1  MARRIAGE_1  \\\n",
      "0     -0.314136 -0.293382                           1   True        True   \n",
      "1     -0.314136 -0.180878                           1   True       False   \n",
      "2     -0.248683 -0.012122                           0   True       False   \n",
      "3     -0.244166 -0.237130                           0   True        True   \n",
      "4     -0.269039 -0.255187                           0  False        True   \n",
      "...         ...       ...                         ...    ...         ...   \n",
      "29995  0.013131 -0.237130                           0  False        True   \n",
      "29996 -0.314136 -0.293382                           0  False       False   \n",
      "29997 -0.183229 -0.119001                           1  False       False   \n",
      "29998  3.152536 -0.191904                           1  False        True   \n",
      "29999 -0.248683 -0.237130                           1  False        True   \n",
      "\n",
      "       MARRIAGE_2  MARRIAGE_3  \n",
      "0           False       False  \n",
      "1            True       False  \n",
      "2            True       False  \n",
      "3           False       False  \n",
      "4           False       False  \n",
      "...           ...         ...  \n",
      "29995       False       False  \n",
      "29996        True       False  \n",
      "29997        True       False  \n",
      "29998       False       False  \n",
      "29999       False       False  \n",
      "\n",
      "[30000 rows x 27 columns]\n"
     ]
    }
   ],
   "source": [
    "# Step 4: Scale numerical features\n",
    "\n",
    "'''\n",
    "LIMIT_BAL (Credit limit)\n",
    "AGE (Age of the customer)\n",
    "PAY_0, PAY_2, PAY_3, PAY_4, PAY_5, PAY_6 (Payment status)\n",
    "BILL_AMT1, BILL_AMT2, BILL_AMT3, BILL_AMT4, BILL_AMT5, BILL_AMT6 (Bill amounts)\n",
    "PAY_AMT1, PAY_AMT2, PAY_AMT3, PAY_AMT4, PAY_AMT5, PAY_AMT6 (Payment amounts)\n",
    "'''\n",
    "\n",
    "scaler = StandardScaler()\n",
    "df[['LIMIT_BAL', 'AGE','PAY_0','PAY_2','PAY_3','PAY_4','PAY_5','PAY_6','BILL_AMT1','BILL_AMT2','BILL_AMT3','BILL_AMT4','BILL_AMT5','BILL_AMT6','PAY_AMT1','PAY_AMT2', 'PAY_AMT3','PAY_AMT4', 'PAY_AMT5','PAY_AMT6']] = scaler.fit_transform(df[['LIMIT_BAL', 'AGE','PAY_0','PAY_2','PAY_3','PAY_4','PAY_5','PAY_6','BILL_AMT1','BILL_AMT2','BILL_AMT3','BILL_AMT4','BILL_AMT5','BILL_AMT6','PAY_AMT1','PAY_AMT2', 'PAY_AMT3','PAY_AMT4', 'PAY_AMT5','PAY_AMT6']])\n",
    "\n",
    "print(df)\n",
    "# Alternatively, MinMaxScaler for scaling between 0 and 1\n",
    "#minmax_scaler = MinMaxScaler()\n",
    "#data[['numerical_column1', 'numerical_column2']] = minmax_scaler.fit_transform(data[['numerical_column1', 'numerical_column2']])"
   ]
  },
  {
   "cell_type": "code",
   "execution_count": 51,
   "id": "df7c0ff9-a2e9-4b43-a990-85384a398b2a",
   "metadata": {},
   "outputs": [
    {
     "name": "stdout",
     "output_type": "stream",
     "text": [
      "X_train shape: (24000, 26)\n",
      "X_test shape: (6000, 26)\n",
      "y_train shape: (24000,)\n",
      "y_test shape: (6000,)\n"
     ]
    }
   ],
   "source": [
    "# Step 5: Split the dataset into training and testing sets\n",
    "X = df.drop('default payment next month', axis=1)  # Independent variables\n",
    "y = df['default payment next month']               # Dependent variable\n",
    "\n",
    "X_train, X_test, y_train, y_test = train_test_split(X, y, test_size=0.2, random_state=42)\n",
    "\n",
    "# Check the shapes of the resulting datasets\n",
    "print(\"X_train shape:\", X_train.shape)\n",
    "print(\"X_test shape:\", X_test.shape)\n",
    "print(\"y_train shape:\", y_train.shape)\n",
    "print(\"y_test shape:\", y_test.shape)"
   ]
  },
  {
   "cell_type": "code",
   "execution_count": null,
   "id": "12685071-dea6-49b9-9025-33c3812c5588",
   "metadata": {},
   "outputs": [],
   "source": []
  }
 ],
 "metadata": {
  "kernelspec": {
   "display_name": "Python 3 (ipykernel)",
   "language": "python",
   "name": "python3"
  },
  "language_info": {
   "codemirror_mode": {
    "name": "ipython",
    "version": 3
   },
   "file_extension": ".py",
   "mimetype": "text/x-python",
   "name": "python",
   "nbconvert_exporter": "python",
   "pygments_lexer": "ipython3",
   "version": "3.11.7"
  }
 },
 "nbformat": 4,
 "nbformat_minor": 5
}
